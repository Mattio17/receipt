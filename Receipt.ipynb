{
 "cells": [
  {
   "cell_type": "code",
   "execution_count": 92,
   "metadata": {},
   "outputs": [],
   "source": [
    "import cv2\n",
    "import numpy as np\n",
    "import imutils\n",
    "import random\n",
    "import pytesseract"
   ]
  },
  {
   "cell_type": "code",
   "execution_count": 93,
   "metadata": {},
   "outputs": [],
   "source": [
    "def image_resize(image, width = None, height = None, inter = cv2.INTER_AREA):\n",
    "    # initialize the dimensions of the image to be resized and\n",
    "    # grab the image size\n",
    "    dim = None\n",
    "    (h, w) = image.shape[:2]\n",
    "\n",
    "    # if both the width and height are None, then return the\n",
    "    # original image\n",
    "    if width is None and height is None:\n",
    "        return image\n",
    "\n",
    "    # check to see if the width is None\n",
    "    if width is None:\n",
    "        # calculate the ratio of the height and construct the\n",
    "        # dimensions\n",
    "        r = height / float(h)\n",
    "        dim = (int(w * r), height)\n",
    "\n",
    "    # otherwise, the height is None\n",
    "    else:\n",
    "        # calculate the ratio of the width and construct the\n",
    "        # dimensions\n",
    "        r = width / float(w)\n",
    "        dim = (width, int(h * r))\n",
    "\n",
    "    # resize the image\n",
    "    resized = cv2.resize(image, dim, interpolation = inter)\n",
    "\n",
    "    # return the resized image\n",
    "    return resized"
   ]
  },
  {
   "cell_type": "code",
   "execution_count": 94,
   "metadata": {},
   "outputs": [],
   "source": [
    "def denoise_filter2D(image, kernel=None):\n",
    "    if kernel is None:\n",
    "        kernel = np.ones((2,2), np.float32)/4    \n",
    "        \n",
    "    denoised_image = cv2.filter2D(image, -1, kernel)\n",
    "    \n",
    "    return denoised_image"
   ]
  },
  {
   "cell_type": "code",
   "execution_count": 95,
   "metadata": {},
   "outputs": [],
   "source": [
    "def standard_thresholding(image):\n",
    "    \n",
    "    ret3,threshold_image = cv2.threshold(image,170,255,cv2.THRESH_BINARY)\n",
    "    \n",
    "    return threshold_image"
   ]
  },
  {
   "cell_type": "code",
   "execution_count": 96,
   "metadata": {},
   "outputs": [],
   "source": [
    "def get_receipt_contour(img):\n",
    "    contours, _ = cv2.findContours(img, cv2.RETR_EXTERNAL, cv2.CHAIN_APPROX_NONE)\n",
    "    h_perimeter = 0\n",
    "    h_contour = []\n",
    "    for cnt in contours:\n",
    "        cnt_perimeter = cv2.arcLength(cnt,True)\n",
    "        if cnt_perimeter > h_perimeter:\n",
    "            h_perimeter = cnt_perimeter\n",
    "            h_contour = cnt\n",
    "            \n",
    "    return h_contour"
   ]
  },
  {
   "cell_type": "code",
   "execution_count": 97,
   "metadata": {},
   "outputs": [],
   "source": [
    "def adjust_receipt_rotation(receipt_contour, img):   \n",
    "    rect = cv2.minAreaRect(receipt_contour)\n",
    "    box = cv2.boxPoints(rect)\n",
    "    box = np.int0(box)\n",
    "    angle = rect[-1]\n",
    "\n",
    "    if angle < -45:\n",
    "        angle =  90 + angle\n",
    "\n",
    "    (h, w) = img.shape[:2]\n",
    "    center = (w // 2, h // 2)\n",
    "    M = cv2.getRotationMatrix2D(center, angle, 1.0)\n",
    "    rotated = cv2.warpAffine(img, M, (w, h),flags=cv2.INTER_CUBIC, borderMode=cv2.BORDER_REPLICATE)\n",
    "    return rotated\n"
   ]
  },
  {
   "cell_type": "code",
   "execution_count": 98,
   "metadata": {},
   "outputs": [],
   "source": [
    "def prepare_image(gray_scaled_image):\n",
    "    no_noise_image = denoise_filter2D(gray_scaled_image)\n",
    "\n",
    "    threshold_image = standard_thresholding(no_noise_image)\n",
    "\n",
    "    no_noise_image = denoise_filter2D(threshold_image)\n",
    "    return no_noise_image"
   ]
  },
  {
   "cell_type": "code",
   "execution_count": 99,
   "metadata": {},
   "outputs": [],
   "source": [
    "IMAGEPATH = \"/home/simone/Desktop/receipt_test.jpg\"\n",
    "\n",
    "image = cv2.imread(IMAGEPATH)\n",
    "gray_scaled_image = cv2.imread(IMAGEPATH, cv2.IMREAD_GRAYSCALE)\n",
    "\n",
    "resize_param = 500\n",
    "\n",
    "image = image_resize(image,resize_param)\n",
    "gray_scaled_image = image_resize(gray_scaled_image,resize_param)\n",
    "\n"
   ]
  },
  {
   "cell_type": "code",
   "execution_count": 100,
   "metadata": {},
   "outputs": [],
   "source": [
    "useful_image = prepare_image(gray_scaled_image)"
   ]
  },
  {
   "cell_type": "code",
   "execution_count": 101,
   "metadata": {},
   "outputs": [],
   "source": [
    "edges = cv2.Canny(useful_image,100,200)\n"
   ]
  },
  {
   "cell_type": "code",
   "execution_count": 102,
   "metadata": {
    "scrolled": true
   },
   "outputs": [],
   "source": [
    "receipt_contour = get_receipt_contour(edges)\n",
    "        \n",
    "rotated = adjust_receipt_rotation(receipt_contour, useful_image)\n",
    "   \n",
    "#_ = cv2.putText(rotated, \"Angle: {:.2f} degrees\".format(angle),(10, 30), cv2.FONT_HERSHEY_SIMPLEX, 0.7, (0, 0, 255), 2)"
   ]
  },
  {
   "cell_type": "code",
   "execution_count": 103,
   "metadata": {},
   "outputs": [],
   "source": [
    "\n",
    "receipt_contour = get_receipt_contour(rotated)\n",
    "x,y,w,h = cv2.boundingRect(receipt_contour)\n",
    "cropped = rotated[y:y+h, x:x+w]"
   ]
  },
  {
   "cell_type": "code",
   "execution_count": 104,
   "metadata": {},
   "outputs": [
    {
     "data": {
      "text/plain": [
       "'Main Street Revtaurent\\n11} Gumiuers Orive\\nSuite 528\\npalo Alto California 9430t\\n‘S25 “1628095,\\n\\nFe, 04/07/2017 11:36 Ad\\n\\nMerchant 10: 9nqyxvufde\\nTerminal 10: a\\n\\nTransaction 10: e6ds9set\\nType: CREDIT\\n\\nPURCHASE:\\nNumber 29100009000000004 1\\nEntry Mode ‘Smiped\\nCard Type: DISCOVER\\n\\nResponse: APPROVED\\n‘Approval Code: 819543\\n\\nSub Total sos 25.23\\nTip: 3.78\\n\\nYotal uso 29.01\\n\\nThanks for suppor cing\\nLocal business |\\n\\nTHANK YOU'"
      ]
     },
     "execution_count": 104,
     "metadata": {},
     "output_type": "execute_result"
    }
   ],
   "source": [
    "pytesseract.image_to_string(cropped)"
   ]
  },
  {
   "cell_type": "code",
   "execution_count": 105,
   "metadata": {},
   "outputs": [],
   "source": [
    "\n",
    "#cv2.imshow(\"gray image\", gray_image_scaled)\n",
    "cv2.imshow(\"starting image\", image)\n",
    "#cv2.imshow(\"threshold image\", threshold_image)\n",
    "cv2.imshow(\"no noise image\", useful_image)\n",
    "#cv2.imshow(\"edges\", edges)\n",
    "\n",
    "cv2.imshow(\"rotated image\", rotated)\n",
    "cv2.imshow(\"cropped image\", cropped)\n",
    "\n",
    "\n",
    "\n",
    "\n",
    "\n",
    "\n",
    "\n",
    "cv2.waitKey()\n",
    "cv2.destroyAllWindows()\n"
   ]
  }
 ],
 "metadata": {
  "kernelspec": {
   "display_name": "Python 3",
   "language": "python",
   "name": "python3"
  },
  "language_info": {
   "codemirror_mode": {
    "name": "ipython",
    "version": 3
   },
   "file_extension": ".py",
   "mimetype": "text/x-python",
   "name": "python",
   "nbconvert_exporter": "python",
   "pygments_lexer": "ipython3",
   "version": "3.6.9"
  }
 },
 "nbformat": 4,
 "nbformat_minor": 4
}
