{
 "cells": [
  {
   "cell_type": "code",
   "execution_count": null,
   "metadata": {
    "colab": {},
    "colab_type": "code",
    "id": "uJmC6xygQ3Fg"
   },
   "outputs": [],
   "source": []
  },
  {
   "cell_type": "code",
   "execution_count": 1,
   "metadata": {
    "colab": {},
    "colab_type": "code",
    "id": "fkOvsP1od-BI"
   },
   "outputs": [],
   "source": [
    "import os\n",
    "import pytesseract\n",
    "from PIL import Image \n",
    "import cv2\n",
    "import numpy as np\n",
    "import importlib\n",
    "import libs.Receipt as rec\n",
    "import gc\n",
    "from matplotlib import pyplot as plt\n",
    "import time\n",
    "\n"
   ]
  },
  {
   "cell_type": "code",
   "execution_count": 2,
   "metadata": {
    "colab": {},
    "colab_type": "code",
    "id": "b9EgTeO-d-BS"
   },
   "outputs": [],
   "source": [
    "IMAGEPATH = \"/home/simone/Desktop/Tesi Laurea/receipt/X_train/\"\n",
    "LABELPATH = \"/home/simone/Desktop/Tesi Laurea/receipt/y_train/\""
   ]
  },
  {
   "cell_type": "code",
   "execution_count": 3,
   "metadata": {
    "colab": {},
    "colab_type": "code",
    "id": "i9zaIZuqd-Ba",
    "scrolled": true
   },
   "outputs": [],
   "source": [
    "listdir = os.listdir(IMAGEPATH)\n",
    "X_train = []\n",
    "y_train = []\n",
    "for image in listdir[:]:\n",
    "  X_train.append(Image.open(\"{}{}\".format(IMAGEPATH, image)).convert(\"L\"))\n",
    "\n",
    "listdir = os.listdir(LABELPATH)\n",
    "for text in listdir[:]:\n",
    "  with open(LABELPATH+'/'+text, 'r') as file:\n",
    "    y_train.append(file.read())\n"
   ]
  },
  {
   "cell_type": "code",
   "execution_count": 4,
   "metadata": {
    "colab": {},
    "colab_type": "code",
    "id": "Kjjy1JAwd-Be"
   },
   "outputs": [],
   "source": [
    "#for fichier in listdir[:]: \n",
    "#    if fichier.endswith(\").txt\") or fichier.endswith(\").jpg\"):\n",
    "#        continue\n",
    "#    elif fichier.endswith(\".txt\"):\n",
    "#        labels.append(fichier)\n",
    "#    else:\n",
    "#        imageset.append((Image.open(\"{}{}\".format(IMAGEPATH, fichier)).convert(\"L\"), fichier))\n",
    "#imageset.sort(key = lambda x: x[1])\n",
    "#labels = sorted(labels)\n",
    "#X_train = []\n",
    "#for i in range(30):\n",
    "#    X_train.append(imageset[i][0])\n",
    "#y_train = labels[:30]\n",
    "#listdir = None\n",
    "#gc.collect()\n"
   ]
  },
  {
   "cell_type": "code",
   "execution_count": 7,
   "metadata": {
    "colab": {
     "base_uri": "https://localhost:8080/",
     "height": 538
    },
    "colab_type": "code",
    "id": "B_flnFWkVL9V",
    "outputId": "184757f7-c8ad-4acc-f7fc-143c47a62190"
   },
   "outputs": [
    {
     "ename": "error",
     "evalue": "OpenCV(4.2.0) /io/opencv/modules/imgproc/src/convhull.cpp:137: error: (-215:Assertion failed) total >= 0 && (depth == CV_32F || depth == CV_32S) in function 'convexHull'\n",
     "output_type": "error",
     "traceback": [
      "\u001b[0;31m---------------------------------------------------------------------------\u001b[0m",
      "\u001b[0;31merror\u001b[0m                                     Traceback (most recent call last)",
      "\u001b[0;32m<ipython-input-7-15003e15c8b0>\u001b[0m in \u001b[0;36m<module>\u001b[0;34m\u001b[0m\n\u001b[1;32m     10\u001b[0m \u001b[0mreceipt_contour\u001b[0m \u001b[0;34m=\u001b[0m \u001b[0mrec\u001b[0m\u001b[0;34m.\u001b[0m\u001b[0mget_receipt_contour\u001b[0m\u001b[0;34m(\u001b[0m\u001b[0medged_image\u001b[0m\u001b[0;34m)\u001b[0m\u001b[0;34m\u001b[0m\u001b[0;34m\u001b[0m\u001b[0m\n\u001b[1;32m     11\u001b[0m \u001b[0;34m\u001b[0m\u001b[0m\n\u001b[0;32m---> 12\u001b[0;31m \u001b[0mrotated_image\u001b[0m \u001b[0;34m=\u001b[0m \u001b[0mrec\u001b[0m\u001b[0;34m.\u001b[0m\u001b[0madjust_receipt_rotation\u001b[0m\u001b[0;34m(\u001b[0m\u001b[0mreceipt_contour\u001b[0m\u001b[0;34m,\u001b[0m \u001b[0medged_image\u001b[0m\u001b[0;34m)\u001b[0m\u001b[0;34m\u001b[0m\u001b[0;34m\u001b[0m\u001b[0m\n\u001b[0m\u001b[1;32m     13\u001b[0m \u001b[0;34m\u001b[0m\u001b[0m\n\u001b[1;32m     14\u001b[0m \u001b[0mreceipt_contour\u001b[0m \u001b[0;34m=\u001b[0m \u001b[0mrec\u001b[0m\u001b[0;34m.\u001b[0m\u001b[0mget_receipt_contour\u001b[0m\u001b[0;34m(\u001b[0m\u001b[0mrotated_image\u001b[0m\u001b[0;34m)\u001b[0m\u001b[0;34m\u001b[0m\u001b[0;34m\u001b[0m\u001b[0m\n",
      "\u001b[0;32m~/Desktop/Tesi Laurea/receipt/libs/Receipt.py\u001b[0m in \u001b[0;36madjust_receipt_rotation\u001b[0;34m(receipt_contour, img)\u001b[0m\n\u001b[1;32m     93\u001b[0m \u001b[0;34m\u001b[0m\u001b[0m\n\u001b[1;32m     94\u001b[0m \u001b[0;32mdef\u001b[0m \u001b[0madjust_receipt_rotation\u001b[0m\u001b[0;34m(\u001b[0m\u001b[0mreceipt_contour\u001b[0m\u001b[0;34m,\u001b[0m \u001b[0mimg\u001b[0m\u001b[0;34m)\u001b[0m\u001b[0;34m:\u001b[0m\u001b[0;34m\u001b[0m\u001b[0;34m\u001b[0m\u001b[0m\n\u001b[0;32m---> 95\u001b[0;31m     \u001b[0mrect\u001b[0m \u001b[0;34m=\u001b[0m \u001b[0mcv2\u001b[0m\u001b[0;34m.\u001b[0m\u001b[0mminAreaRect\u001b[0m\u001b[0;34m(\u001b[0m\u001b[0mreceipt_contour\u001b[0m\u001b[0;34m)\u001b[0m\u001b[0;34m\u001b[0m\u001b[0;34m\u001b[0m\u001b[0m\n\u001b[0m\u001b[1;32m     96\u001b[0m     \u001b[0mbox\u001b[0m \u001b[0;34m=\u001b[0m \u001b[0mcv2\u001b[0m\u001b[0;34m.\u001b[0m\u001b[0mboxPoints\u001b[0m\u001b[0;34m(\u001b[0m\u001b[0mrect\u001b[0m\u001b[0;34m)\u001b[0m\u001b[0;34m\u001b[0m\u001b[0;34m\u001b[0m\u001b[0m\n\u001b[1;32m     97\u001b[0m     \u001b[0mbox\u001b[0m \u001b[0;34m=\u001b[0m \u001b[0mnp\u001b[0m\u001b[0;34m.\u001b[0m\u001b[0mint0\u001b[0m\u001b[0;34m(\u001b[0m\u001b[0mbox\u001b[0m\u001b[0;34m)\u001b[0m\u001b[0;34m\u001b[0m\u001b[0;34m\u001b[0m\u001b[0m\n",
      "\u001b[0;31merror\u001b[0m: OpenCV(4.2.0) /io/opencv/modules/imgproc/src/convhull.cpp:137: error: (-215:Assertion failed) total >= 0 && (depth == CV_32F || depth == CV_32S) in function 'convexHull'\n"
     ]
    }
   ],
   "source": [
    "  i=0\n",
    "  starting_image = np.array(X_train[i]).astype(np.float32)\n",
    "  #resize_param = 500\n",
    "  #resized_image = rec.image_resize(starting_image,resize_param)\n",
    "\n",
    "  clean_image = rec.denoise_filter2D(starting_image)\n",
    "  thresholded_image = rec.standard_thresholding(starting_image)\n",
    "  edged_image = rec.get_edged_image(np.uint8(thresholded_image))\n",
    "\n",
    "  receipt_contour = rec.get_receipt_contour(edged_image)\n",
    "\n",
    "  rotated_image = rec.adjust_receipt_rotation(receipt_contour, edged_image)\n",
    "\n",
    "  receipt_contour = rec.get_receipt_contour(rotated_image)\n",
    "\n",
    "  cropped_image = rec.get_cropped_image(starting_image, receipt_contour)\n",
    "\n",
    "  #pytesseract.image_to_string(cropped_image)\n",
    "\n",
    "  print(i)\n",
    "  plt.imshow(starting_image,'gray')\n",
    "  plt.show()\n",
    "  plt.imshow(thresh_cleaned_image,'gray')\n",
    "  plt.show()\n"
   ]
  },
  {
   "cell_type": "code",
   "execution_count": null,
   "metadata": {
    "colab": {},
    "colab_type": "code",
    "id": "8V3Su1ZTd-B0"
   },
   "outputs": [],
   "source": []
  },
  {
   "cell_type": "code",
   "execution_count": null,
   "metadata": {
    "colab": {},
    "colab_type": "code",
    "id": "kYEWLSHUd-B5"
   },
   "outputs": [],
   "source": []
  },
  {
   "cell_type": "code",
   "execution_count": null,
   "metadata": {
    "colab": {},
    "colab_type": "code",
    "id": "uBL-AO2Rd-B8"
   },
   "outputs": [],
   "source": []
  },
  {
   "cell_type": "code",
   "execution_count": null,
   "metadata": {
    "colab": {},
    "colab_type": "code",
    "id": "4_f4WPySd-CB"
   },
   "outputs": [],
   "source": []
  },
  {
   "cell_type": "code",
   "execution_count": null,
   "metadata": {},
   "outputs": [],
   "source": []
  },
  {
   "cell_type": "code",
   "execution_count": null,
   "metadata": {},
   "outputs": [],
   "source": []
  }
 ],
 "metadata": {
  "accelerator": "GPU",
  "colab": {
   "collapsed_sections": [],
   "machine_shape": "hm",
   "name": "Receipt_2.ipynb",
   "provenance": []
  },
  "kernelspec": {
   "display_name": "Python 3",
   "language": "python",
   "name": "python3"
  },
  "language_info": {
   "codemirror_mode": {
    "name": "ipython",
    "version": 3
   },
   "file_extension": ".py",
   "mimetype": "text/x-python",
   "name": "python",
   "nbconvert_exporter": "python",
   "pygments_lexer": "ipython3",
   "version": "3.6.9"
  }
 },
 "nbformat": 4,
 "nbformat_minor": 1
}
